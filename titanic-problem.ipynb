{
  "metadata": {
    "kernelspec": {
      "name": "python",
      "display_name": "Python (Pyodide)",
      "language": "python"
    },
    "language_info": {
      "codemirror_mode": {
        "name": "python",
        "version": 3
      },
      "file_extension": ".py",
      "mimetype": "text/x-python",
      "name": "python",
      "nbconvert_exporter": "python",
      "pygments_lexer": "ipython3",
      "version": "3.8"
    },
    "kaggle": {
      "accelerator": "none",
      "dataSources": [
        {
          "sourceId": 3136,
          "databundleVersionId": 26502,
          "sourceType": "competition"
        }
      ],
      "dockerImageVersionId": 30664,
      "isInternetEnabled": false,
      "language": "python",
      "sourceType": "notebook",
      "isGpuEnabled": false
    }
  },
  "nbformat_minor": 4,
  "nbformat": 4,
  "cells": [
    {
      "cell_type": "markdown",
      "source": "**1. Importing Data**",
      "metadata": {}
    },
    {
      "cell_type": "code",
      "source": "import pandas as pd\ntrain_data = pd.read_csv(\"train.csv\")\ntrain_data",
      "metadata": {
        "_uuid": "d1ec5058-ad90-4a2c-b6ac-3aad661e318a",
        "_cell_guid": "2dda00c7-d844-4e0a-bd71-bdd3d1d2463e",
        "collapsed": false,
        "jupyter": {
          "outputs_hidden": false
        },
        "trusted": true
      },
      "outputs": [
        {
          "execution_count": 1,
          "output_type": "execute_result",
          "data": {
            "text/plain": "     PassengerId  Survived  Pclass  \\\n0              1         0       3   \n1              2         1       1   \n2              3         1       3   \n3              4         1       1   \n4              5         0       3   \n..           ...       ...     ...   \n886          887         0       2   \n887          888         1       1   \n888          889         0       3   \n889          890         1       1   \n890          891         0       3   \n\n                                                  Name     Sex   Age  SibSp  \\\n0                              Braund, Mr. Owen Harris    male  22.0      1   \n1    Cumings, Mrs. John Bradley (Florence Briggs Th...  female  38.0      1   \n2                               Heikkinen, Miss. Laina  female  26.0      0   \n3         Futrelle, Mrs. Jacques Heath (Lily May Peel)  female  35.0      1   \n4                             Allen, Mr. William Henry    male  35.0      0   \n..                                                 ...     ...   ...    ...   \n886                              Montvila, Rev. Juozas    male  27.0      0   \n887                       Graham, Miss. Margaret Edith  female  19.0      0   \n888           Johnston, Miss. Catherine Helen \"Carrie\"  female   NaN      1   \n889                              Behr, Mr. Karl Howell    male  26.0      0   \n890                                Dooley, Mr. Patrick    male  32.0      0   \n\n     Parch            Ticket     Fare Cabin Embarked  \n0        0         A/5 21171   7.2500   NaN        S  \n1        0          PC 17599  71.2833   C85        C  \n2        0  STON/O2. 3101282   7.9250   NaN        S  \n3        0            113803  53.1000  C123        S  \n4        0            373450   8.0500   NaN        S  \n..     ...               ...      ...   ...      ...  \n886      0            211536  13.0000   NaN        S  \n887      0            112053  30.0000   B42        S  \n888      2        W./C. 6607  23.4500   NaN        S  \n889      0            111369  30.0000  C148        C  \n890      0            370376   7.7500   NaN        Q  \n\n[891 rows x 12 columns]",
            "text/html": "<div>\n<style scoped>\n    .dataframe tbody tr th:only-of-type {\n        vertical-align: middle;\n    }\n\n    .dataframe tbody tr th {\n        vertical-align: top;\n    }\n\n    .dataframe thead th {\n        text-align: right;\n    }\n</style>\n<table border=\"1\" class=\"dataframe\">\n  <thead>\n    <tr style=\"text-align: right;\">\n      <th></th>\n      <th>PassengerId</th>\n      <th>Survived</th>\n      <th>Pclass</th>\n      <th>Name</th>\n      <th>Sex</th>\n      <th>Age</th>\n      <th>SibSp</th>\n      <th>Parch</th>\n      <th>Ticket</th>\n      <th>Fare</th>\n      <th>Cabin</th>\n      <th>Embarked</th>\n    </tr>\n  </thead>\n  <tbody>\n    <tr>\n      <th>0</th>\n      <td>1</td>\n      <td>0</td>\n      <td>3</td>\n      <td>Braund, Mr. Owen Harris</td>\n      <td>male</td>\n      <td>22.0</td>\n      <td>1</td>\n      <td>0</td>\n      <td>A/5 21171</td>\n      <td>7.2500</td>\n      <td>NaN</td>\n      <td>S</td>\n    </tr>\n    <tr>\n      <th>1</th>\n      <td>2</td>\n      <td>1</td>\n      <td>1</td>\n      <td>Cumings, Mrs. John Bradley (Florence Briggs Th...</td>\n      <td>female</td>\n      <td>38.0</td>\n      <td>1</td>\n      <td>0</td>\n      <td>PC 17599</td>\n      <td>71.2833</td>\n      <td>C85</td>\n      <td>C</td>\n    </tr>\n    <tr>\n      <th>2</th>\n      <td>3</td>\n      <td>1</td>\n      <td>3</td>\n      <td>Heikkinen, Miss. Laina</td>\n      <td>female</td>\n      <td>26.0</td>\n      <td>0</td>\n      <td>0</td>\n      <td>STON/O2. 3101282</td>\n      <td>7.9250</td>\n      <td>NaN</td>\n      <td>S</td>\n    </tr>\n    <tr>\n      <th>3</th>\n      <td>4</td>\n      <td>1</td>\n      <td>1</td>\n      <td>Futrelle, Mrs. Jacques Heath (Lily May Peel)</td>\n      <td>female</td>\n      <td>35.0</td>\n      <td>1</td>\n      <td>0</td>\n      <td>113803</td>\n      <td>53.1000</td>\n      <td>C123</td>\n      <td>S</td>\n    </tr>\n    <tr>\n      <th>4</th>\n      <td>5</td>\n      <td>0</td>\n      <td>3</td>\n      <td>Allen, Mr. William Henry</td>\n      <td>male</td>\n      <td>35.0</td>\n      <td>0</td>\n      <td>0</td>\n      <td>373450</td>\n      <td>8.0500</td>\n      <td>NaN</td>\n      <td>S</td>\n    </tr>\n    <tr>\n      <th>...</th>\n      <td>...</td>\n      <td>...</td>\n      <td>...</td>\n      <td>...</td>\n      <td>...</td>\n      <td>...</td>\n      <td>...</td>\n      <td>...</td>\n      <td>...</td>\n      <td>...</td>\n      <td>...</td>\n      <td>...</td>\n    </tr>\n    <tr>\n      <th>886</th>\n      <td>887</td>\n      <td>0</td>\n      <td>2</td>\n      <td>Montvila, Rev. Juozas</td>\n      <td>male</td>\n      <td>27.0</td>\n      <td>0</td>\n      <td>0</td>\n      <td>211536</td>\n      <td>13.0000</td>\n      <td>NaN</td>\n      <td>S</td>\n    </tr>\n    <tr>\n      <th>887</th>\n      <td>888</td>\n      <td>1</td>\n      <td>1</td>\n      <td>Graham, Miss. Margaret Edith</td>\n      <td>female</td>\n      <td>19.0</td>\n      <td>0</td>\n      <td>0</td>\n      <td>112053</td>\n      <td>30.0000</td>\n      <td>B42</td>\n      <td>S</td>\n    </tr>\n    <tr>\n      <th>888</th>\n      <td>889</td>\n      <td>0</td>\n      <td>3</td>\n      <td>Johnston, Miss. Catherine Helen \"Carrie\"</td>\n      <td>female</td>\n      <td>NaN</td>\n      <td>1</td>\n      <td>2</td>\n      <td>W./C. 6607</td>\n      <td>23.4500</td>\n      <td>NaN</td>\n      <td>S</td>\n    </tr>\n    <tr>\n      <th>889</th>\n      <td>890</td>\n      <td>1</td>\n      <td>1</td>\n      <td>Behr, Mr. Karl Howell</td>\n      <td>male</td>\n      <td>26.0</td>\n      <td>0</td>\n      <td>0</td>\n      <td>111369</td>\n      <td>30.0000</td>\n      <td>C148</td>\n      <td>C</td>\n    </tr>\n    <tr>\n      <th>890</th>\n      <td>891</td>\n      <td>0</td>\n      <td>3</td>\n      <td>Dooley, Mr. Patrick</td>\n      <td>male</td>\n      <td>32.0</td>\n      <td>0</td>\n      <td>0</td>\n      <td>370376</td>\n      <td>7.7500</td>\n      <td>NaN</td>\n      <td>Q</td>\n    </tr>\n  </tbody>\n</table>\n<p>891 rows × 12 columns</p>\n</div>"
          },
          "metadata": {}
        }
      ],
      "execution_count": 1
    },
    {
      "cell_type": "markdown",
      "source": "**2. Data Cleaning**",
      "metadata": {}
    },
    {
      "cell_type": "markdown",
      "source": "Removing null values",
      "metadata": {}
    },
    {
      "cell_type": "code",
      "source": "train_data.isnull().sum()",
      "metadata": {
        "_uuid": "6a4ae3da-2d53-498a-9dee-eb0c4aaf9684",
        "_cell_guid": "29a18c6d-405f-47ef-96cc-1e91007cb7e0",
        "collapsed": false,
        "jupyter": {
          "outputs_hidden": false
        },
        "trusted": true
      },
      "outputs": [
        {
          "execution_count": 2,
          "output_type": "execute_result",
          "data": {
            "text/plain": "PassengerId      0\nSurvived         0\nPclass           0\nName             0\nSex              0\nAge            177\nSibSp            0\nParch            0\nTicket           0\nFare             0\nCabin          687\nEmbarked         2\ndtype: int64"
          },
          "metadata": {}
        }
      ],
      "execution_count": 2
    },
    {
      "cell_type": "code",
      "source": "train_data=train_data.drop(['Cabin'], axis=1)\ntrain_data['Age'].fillna(train_data['Age'].mean(), inplace = True)\ntrain_data.head()",
      "metadata": {
        "_uuid": "f79532b5-3e73-4c5b-bde8-ed7ef0d89e91",
        "_cell_guid": "f2946750-4d21-4404-851e-0dc12d0ecc04",
        "collapsed": false,
        "jupyter": {
          "outputs_hidden": false
        },
        "trusted": true
      },
      "outputs": [
        {
          "execution_count": 3,
          "output_type": "execute_result",
          "data": {
            "text/plain": "   PassengerId  Survived  Pclass  \\\n0            1         0       3   \n1            2         1       1   \n2            3         1       3   \n3            4         1       1   \n4            5         0       3   \n\n                                                Name     Sex   Age  SibSp  \\\n0                            Braund, Mr. Owen Harris    male  22.0      1   \n1  Cumings, Mrs. John Bradley (Florence Briggs Th...  female  38.0      1   \n2                             Heikkinen, Miss. Laina  female  26.0      0   \n3       Futrelle, Mrs. Jacques Heath (Lily May Peel)  female  35.0      1   \n4                           Allen, Mr. William Henry    male  35.0      0   \n\n   Parch            Ticket     Fare Embarked  \n0      0         A/5 21171   7.2500        S  \n1      0          PC 17599  71.2833        C  \n2      0  STON/O2. 3101282   7.9250        S  \n3      0            113803  53.1000        S  \n4      0            373450   8.0500        S  ",
            "text/html": "<div>\n<style scoped>\n    .dataframe tbody tr th:only-of-type {\n        vertical-align: middle;\n    }\n\n    .dataframe tbody tr th {\n        vertical-align: top;\n    }\n\n    .dataframe thead th {\n        text-align: right;\n    }\n</style>\n<table border=\"1\" class=\"dataframe\">\n  <thead>\n    <tr style=\"text-align: right;\">\n      <th></th>\n      <th>PassengerId</th>\n      <th>Survived</th>\n      <th>Pclass</th>\n      <th>Name</th>\n      <th>Sex</th>\n      <th>Age</th>\n      <th>SibSp</th>\n      <th>Parch</th>\n      <th>Ticket</th>\n      <th>Fare</th>\n      <th>Embarked</th>\n    </tr>\n  </thead>\n  <tbody>\n    <tr>\n      <th>0</th>\n      <td>1</td>\n      <td>0</td>\n      <td>3</td>\n      <td>Braund, Mr. Owen Harris</td>\n      <td>male</td>\n      <td>22.0</td>\n      <td>1</td>\n      <td>0</td>\n      <td>A/5 21171</td>\n      <td>7.2500</td>\n      <td>S</td>\n    </tr>\n    <tr>\n      <th>1</th>\n      <td>2</td>\n      <td>1</td>\n      <td>1</td>\n      <td>Cumings, Mrs. John Bradley (Florence Briggs Th...</td>\n      <td>female</td>\n      <td>38.0</td>\n      <td>1</td>\n      <td>0</td>\n      <td>PC 17599</td>\n      <td>71.2833</td>\n      <td>C</td>\n    </tr>\n    <tr>\n      <th>2</th>\n      <td>3</td>\n      <td>1</td>\n      <td>3</td>\n      <td>Heikkinen, Miss. Laina</td>\n      <td>female</td>\n      <td>26.0</td>\n      <td>0</td>\n      <td>0</td>\n      <td>STON/O2. 3101282</td>\n      <td>7.9250</td>\n      <td>S</td>\n    </tr>\n    <tr>\n      <th>3</th>\n      <td>4</td>\n      <td>1</td>\n      <td>1</td>\n      <td>Futrelle, Mrs. Jacques Heath (Lily May Peel)</td>\n      <td>female</td>\n      <td>35.0</td>\n      <td>1</td>\n      <td>0</td>\n      <td>113803</td>\n      <td>53.1000</td>\n      <td>S</td>\n    </tr>\n    <tr>\n      <th>4</th>\n      <td>5</td>\n      <td>0</td>\n      <td>3</td>\n      <td>Allen, Mr. William Henry</td>\n      <td>male</td>\n      <td>35.0</td>\n      <td>0</td>\n      <td>0</td>\n      <td>373450</td>\n      <td>8.0500</td>\n      <td>S</td>\n    </tr>\n  </tbody>\n</table>\n</div>"
          },
          "metadata": {}
        }
      ],
      "execution_count": 3
    },
    {
      "cell_type": "code",
      "source": "train_data.isnull().sum()",
      "metadata": {
        "_uuid": "c6b919a4-928e-45da-9f34-359e8948c513",
        "_cell_guid": "472ff011-a3f9-4407-bf03-afcfdd10b6bc",
        "collapsed": false,
        "jupyter": {
          "outputs_hidden": false
        },
        "trusted": true
      },
      "outputs": [
        {
          "execution_count": 4,
          "output_type": "execute_result",
          "data": {
            "text/plain": "PassengerId    0\nSurvived       0\nPclass         0\nName           0\nSex            0\nAge            0\nSibSp          0\nParch          0\nTicket         0\nFare           0\nEmbarked       2\ndtype: int64"
          },
          "metadata": {}
        }
      ],
      "execution_count": 4
    },
    {
      "cell_type": "code",
      "source": "train_data['Embarked'].fillna(train_data['Embarked'].mode()[0], inplace=True)\ntrain_data.isnull().sum()",
      "metadata": {
        "_uuid": "34b2443d-9b30-4629-a1e0-9e8cb31a4057",
        "_cell_guid": "147a4237-d898-478b-9a92-c4c555a223e6",
        "collapsed": false,
        "jupyter": {
          "outputs_hidden": false
        },
        "trusted": true
      },
      "outputs": [
        {
          "execution_count": 5,
          "output_type": "execute_result",
          "data": {
            "text/plain": "PassengerId    0\nSurvived       0\nPclass         0\nName           0\nSex            0\nAge            0\nSibSp          0\nParch          0\nTicket         0\nFare           0\nEmbarked       0\ndtype: int64"
          },
          "metadata": {}
        }
      ],
      "execution_count": 5
    },
    {
      "cell_type": "markdown",
      "source": "**3. Analysing Data**",
      "metadata": {}
    },
    {
      "cell_type": "code",
      "source": "train_data.describe()",
      "metadata": {
        "_uuid": "ffc7b8e2-f21b-4e70-8a15-efa5d1351080",
        "_cell_guid": "0aacf673-c13d-48e9-914b-e830362f4698",
        "collapsed": false,
        "jupyter": {
          "outputs_hidden": false
        },
        "trusted": true,
        "scrolled": true
      },
      "outputs": [
        {
          "execution_count": 6,
          "output_type": "execute_result",
          "data": {
            "text/plain": "       PassengerId    Survived      Pclass         Age       SibSp  \\\ncount   891.000000  891.000000  891.000000  891.000000  891.000000   \nmean    446.000000    0.383838    2.308642   29.699118    0.523008   \nstd     257.353842    0.486592    0.836071   13.002015    1.102743   \nmin       1.000000    0.000000    1.000000    0.420000    0.000000   \n25%     223.500000    0.000000    2.000000   22.000000    0.000000   \n50%     446.000000    0.000000    3.000000   29.699118    0.000000   \n75%     668.500000    1.000000    3.000000   35.000000    1.000000   \nmax     891.000000    1.000000    3.000000   80.000000    8.000000   \n\n            Parch        Fare  \ncount  891.000000  891.000000  \nmean     0.381594   32.204208  \nstd      0.806057   49.693429  \nmin      0.000000    0.000000  \n25%      0.000000    7.910400  \n50%      0.000000   14.454200  \n75%      0.000000   31.000000  \nmax      6.000000  512.329200  ",
            "text/html": "<div>\n<style scoped>\n    .dataframe tbody tr th:only-of-type {\n        vertical-align: middle;\n    }\n\n    .dataframe tbody tr th {\n        vertical-align: top;\n    }\n\n    .dataframe thead th {\n        text-align: right;\n    }\n</style>\n<table border=\"1\" class=\"dataframe\">\n  <thead>\n    <tr style=\"text-align: right;\">\n      <th></th>\n      <th>PassengerId</th>\n      <th>Survived</th>\n      <th>Pclass</th>\n      <th>Age</th>\n      <th>SibSp</th>\n      <th>Parch</th>\n      <th>Fare</th>\n    </tr>\n  </thead>\n  <tbody>\n    <tr>\n      <th>count</th>\n      <td>891.000000</td>\n      <td>891.000000</td>\n      <td>891.000000</td>\n      <td>891.000000</td>\n      <td>891.000000</td>\n      <td>891.000000</td>\n      <td>891.000000</td>\n    </tr>\n    <tr>\n      <th>mean</th>\n      <td>446.000000</td>\n      <td>0.383838</td>\n      <td>2.308642</td>\n      <td>29.699118</td>\n      <td>0.523008</td>\n      <td>0.381594</td>\n      <td>32.204208</td>\n    </tr>\n    <tr>\n      <th>std</th>\n      <td>257.353842</td>\n      <td>0.486592</td>\n      <td>0.836071</td>\n      <td>13.002015</td>\n      <td>1.102743</td>\n      <td>0.806057</td>\n      <td>49.693429</td>\n    </tr>\n    <tr>\n      <th>min</th>\n      <td>1.000000</td>\n      <td>0.000000</td>\n      <td>1.000000</td>\n      <td>0.420000</td>\n      <td>0.000000</td>\n      <td>0.000000</td>\n      <td>0.000000</td>\n    </tr>\n    <tr>\n      <th>25%</th>\n      <td>223.500000</td>\n      <td>0.000000</td>\n      <td>2.000000</td>\n      <td>22.000000</td>\n      <td>0.000000</td>\n      <td>0.000000</td>\n      <td>7.910400</td>\n    </tr>\n    <tr>\n      <th>50%</th>\n      <td>446.000000</td>\n      <td>0.000000</td>\n      <td>3.000000</td>\n      <td>29.699118</td>\n      <td>0.000000</td>\n      <td>0.000000</td>\n      <td>14.454200</td>\n    </tr>\n    <tr>\n      <th>75%</th>\n      <td>668.500000</td>\n      <td>1.000000</td>\n      <td>3.000000</td>\n      <td>35.000000</td>\n      <td>1.000000</td>\n      <td>0.000000</td>\n      <td>31.000000</td>\n    </tr>\n    <tr>\n      <th>max</th>\n      <td>891.000000</td>\n      <td>1.000000</td>\n      <td>3.000000</td>\n      <td>80.000000</td>\n      <td>8.000000</td>\n      <td>6.000000</td>\n      <td>512.329200</td>\n    </tr>\n  </tbody>\n</table>\n</div>"
          },
          "metadata": {}
        }
      ],
      "execution_count": 6
    },
    {
      "cell_type": "markdown",
      "source": "Rate of Survival in Males and Females",
      "metadata": {}
    },
    {
      "cell_type": "code",
      "source": "women = train_data.loc[train_data['Sex']==\"female\", \"Survived\"]\nmen = train_data.loc[train_data['Sex']=='male', 'Survived']\nrate_survival_women = sum(women)/len(women)*100\nrate_survival_men = sum(men)/len(men)*100\nprint(\"Percentage of Men who survived: \",rate_survival_men, \"%\")\nprint(\"Percentage of Women who survived: \",rate_survival_women, \"%\")",
      "metadata": {
        "_uuid": "35227c9f-5129-42a9-8e71-93ff38cbda5e",
        "_cell_guid": "4e63cb41-5c2a-477a-bafa-40e08975c702",
        "collapsed": false,
        "jupyter": {
          "outputs_hidden": false
        },
        "trusted": true
      },
      "outputs": [
        {
          "name": "stdout",
          "text": "Percentage of Men who survived:  18.890814558058924 %\nPercentage of Women who survived:  74.20382165605095 %\n",
          "output_type": "stream"
        }
      ],
      "execution_count": 7
    },
    {
      "cell_type": "markdown",
      "source": "**4. Data Visualisation**",
      "metadata": {}
    },
    {
      "cell_type": "code",
      "source": "import matplotlib.pyplot as plt\nsurvival_count = train_data['Survived'].value_counts()\nprint(survival_count)\nsurvival_count.plot(kind='bar')\nplt.xlabel(\"Survived\")\nplt.ylabel(\"Count\")\nplt.title(\"Rate of Survival\")\nplt.show()",
      "metadata": {
        "_uuid": "9cc56c81-931d-4305-a103-80e2da5aa017",
        "_cell_guid": "40e693f9-a724-4166-9e99-b3aff4bf28b4",
        "collapsed": false,
        "jupyter": {
          "outputs_hidden": false
        },
        "trusted": true,
        "scrolled": true
      },
      "outputs": [
        {
          "name": "stdout",
          "text": "0    549\n1    342\nName: Survived, dtype: int64\n",
          "output_type": "stream"
        },
        {
          "output_type": "display_data",
          "data": {
            "text/plain": "<Figure size 640x480 with 1 Axes>",
            "image/png": "[encoded data removed]"
          },
          "metadata": {}
        }
      ],
      "execution_count": 8
    },
    {
      "cell_type": "markdown",
      "source": "**Rate of Survival in Females**",
      "metadata": {
        "_uuid": "295aaa4c-f255-478e-ae08-d5dd1a3071c9",
        "_cell_guid": "7f75cd31-d17a-412a-bece-9fd4a276ed81",
        "trusted": true
      }
    },
    {
      "cell_type": "code",
      "source": "women.value_counts().plot(kind='pie', title='Rate of Survival in Females')",
      "metadata": {
        "_uuid": "e207d240-f1bb-4264-880e-2bb371f46430",
        "_cell_guid": "cb27ff0f-5f8a-4a23-bf27-77d2938f5c6f",
        "collapsed": false,
        "jupyter": {
          "outputs_hidden": false
        },
        "trusted": true
      },
      "outputs": [
        {
          "execution_count": 9,
          "output_type": "execute_result",
          "data": {
            "text/plain": "<AxesSubplot:title={'center':'Rate of Survival in Females'}, ylabel='Survived'>"
          },
          "metadata": {}
        },
        {
          "output_type": "display_data",
          "data": {
            "text/plain": "<Figure size 640x480 with 1 Axes>",
            "image/png": "[encoded data removed]"
          },
          "metadata": {}
        }
      ],
      "execution_count": 9
    },
    {
      "cell_type": "markdown",
      "source": "**Rate of Survival in Males**",
      "metadata": {
        "_uuid": "b3c3e251-bc38-4799-aef3-9f302cacf2dc",
        "_cell_guid": "f809c9a0-fcf4-45f7-83b5-595b9ac1ed8b",
        "trusted": true
      }
    },
    {
      "cell_type": "code",
      "source": "men.value_counts().plot(kind='pie', title='Rate of Survival in Males')",
      "metadata": {
        "_uuid": "f703e0c5-85a2-48ec-a085-2c0b573a3eb8",
        "_cell_guid": "f008c33f-d525-43c6-9a4c-a1ef7cd11dc1",
        "collapsed": false,
        "jupyter": {
          "outputs_hidden": false
        },
        "trusted": true
      },
      "outputs": [
        {
          "execution_count": 10,
          "output_type": "execute_result",
          "data": {
            "text/plain": "<AxesSubplot:title={'center':'Rate of Survival in Males'}, ylabel='Survived'>"
          },
          "metadata": {}
        },
        {
          "output_type": "display_data",
          "data": {
            "text/plain": "<Figure size 640x480 with 1 Axes>",
            "image/png": "[encoded data removed]"
          },
          "metadata": {}
        }
      ],
      "execution_count": 10
    },
    {
      "cell_type": "markdown",
      "source": "**Females VS Males**",
      "metadata": {
        "_uuid": "98b070b2-10a7-4d75-92f2-f10b0ddd1ed4",
        "_cell_guid": "7ceb4211-a858-4497-9e8e-6ce7ad854cf9",
        "trusted": true
      }
    },
    {
      "cell_type": "code",
      "source": "survived = train_data.loc[train_data['Survived']==1, 'Sex']\nsurvival_sex_count = survived.value_counts()\ncolors = ['#f542d7', '#4287f5']\nrate = survival_sex_count['female']/len(survived)*100\nprint(f\"Percentage of females in survived Passengers = {rate:0.2f}%\")\nprint(f\"Percentage of females in survived Passengers = {(100-rate):0.2f}%\")\nsurvival_sex_count.plot(kind='bar', color=colors, title='Ratio of Survived Males to Survived Females')",
      "metadata": {
        "_uuid": "b9bceb9e-3e70-44a2-a69d-1e3ccb47b2ec",
        "_cell_guid": "130e9bfd-96b5-4d3d-b9b5-2825cc7f7e08",
        "collapsed": false,
        "jupyter": {
          "outputs_hidden": false
        },
        "trusted": true
      },
      "outputs": [
        {
          "name": "stdout",
          "text": "Percentage of females in survived Passengers = 68.13%\nPercentage of females in survived Passengers = 31.87%\n",
          "output_type": "stream"
        },
        {
          "execution_count": 11,
          "output_type": "execute_result",
          "data": {
            "text/plain": "<AxesSubplot:title={'center':'Ratio of Survived Males to Survived Females'}>"
          },
          "metadata": {}
        },
        {
          "output_type": "display_data",
          "data": {
            "text/plain": "<Figure size 640x480 with 1 Axes>",
            "image/png": "[encoded data removed]"
          },
          "metadata": {}
        }
      ],
      "execution_count": 11
    },
    {
      "cell_type": "markdown",
      "source": "**Rate of Survival in different Passenger Classes**",
      "metadata": {}
    },
    {
      "cell_type": "code",
      "source": "survived = train_data.loc[train_data['Survived']==1, 'Pclass']\nsurvival_pclass_count = survived.value_counts()\nsurvival_pclass_count.plot(kind='bar', title='Rate of Survival in different Passenger Classes')",
      "metadata": {
        "trusted": true
      },
      "outputs": [
        {
          "execution_count": 13,
          "output_type": "execute_result",
          "data": {
            "text/plain": "<AxesSubplot:title={'center':'Rate of Survival in different Passenger Classes'}>"
          },
          "metadata": {}
        },
        {
          "output_type": "display_data",
          "data": {
            "text/plain": "<Figure size 640x480 with 1 Axes>",
            "image/png": "[encoded data removed]"
          },
          "metadata": {}
        }
      ],
      "execution_count": 13
    },
    {
      "cell_type": "markdown",
      "source": "**5. Encoding Categorical Variables**",
      "metadata": {
        "_uuid": "72335228-b21a-4319-8ebf-ba052b03dc17",
        "_cell_guid": "c8b2878c-0c7c-4bc8-ae8e-10ad3567ad9e",
        "trusted": true
      }
    },
    {
      "cell_type": "code",
      "source": "train_data['Sex'].value_counts()",
      "metadata": {
        "_uuid": "661649d1-0a4e-4557-8d8e-bb55870e1366",
        "_cell_guid": "1feff68a-6410-46a4-a00c-e76fd52929a5",
        "collapsed": false,
        "jupyter": {
          "outputs_hidden": false
        },
        "trusted": true
      },
      "outputs": [],
      "execution_count": null
    },
    {
      "cell_type": "markdown",
      "source": "Using Binary values for Sex Field",
      "metadata": {}
    },
    {
      "cell_type": "code",
      "source": "train_data.replace({'Sex':{'male':0, 'female':1}}, inplace=True)\ntrain_data.head()",
      "metadata": {
        "_uuid": "d25a625a-6303-404f-89cf-3604d3c52bf9",
        "_cell_guid": "b3b99892-d14b-4749-9bd1-e46404fedc05",
        "collapsed": false,
        "jupyter": {
          "outputs_hidden": false
        },
        "trusted": true
      },
      "outputs": [],
      "execution_count": null
    },
    {
      "cell_type": "markdown",
      "source": "Creating Categories for Embarked Field",
      "metadata": {
        "_uuid": "0935f1b0-1cd6-4756-a4b6-046b0c2f3cef",
        "_cell_guid": "b994fbe4-dc7c-4b53-8e9c-2913d81af73a",
        "trusted": true
      }
    },
    {
      "cell_type": "code",
      "source": "train_data['Embarked'].value_counts()",
      "metadata": {
        "_uuid": "8aeb4c3c-57e0-4e32-b948-3a17e6312bf6",
        "_cell_guid": "66cf4763-ce5c-437e-add2-fcb8084614a8",
        "collapsed": false,
        "jupyter": {
          "outputs_hidden": false
        },
        "trusted": true
      },
      "outputs": [],
      "execution_count": null
    },
    {
      "cell_type": "code",
      "source": "len(train_data.columns)",
      "metadata": {
        "_uuid": "98af9cc0-0158-43db-bd23-61c9021a8316",
        "_cell_guid": "ea9fb120-ee3e-49c7-af57-345962a026e4",
        "collapsed": false,
        "jupyter": {
          "outputs_hidden": false
        },
        "trusted": true
      },
      "outputs": [],
      "execution_count": null
    },
    {
      "cell_type": "code",
      "source": "train_data.insert(11, 'C', [int(emb=='C')for emb in train_data['Embarked']])\ntrain_data.head()",
      "metadata": {
        "_uuid": "57df3a9f-a8b1-47a2-a3e0-77d98d972588",
        "_cell_guid": "0d6f1652-f0d7-4ade-a814-f77b9f23e14c",
        "collapsed": false,
        "jupyter": {
          "outputs_hidden": false
        },
        "trusted": true
      },
      "outputs": [],
      "execution_count": null
    },
    {
      "cell_type": "code",
      "source": "train_data.insert(12, 'Q', [int(emb=='Q') for emb in train_data['Embarked']])\ntrain_data.head()",
      "metadata": {
        "_uuid": "b61fa33b-88f1-4c1a-8567-1bf4d39902ff",
        "_cell_guid": "99595d66-9776-4a30-96a8-d8d4a337e629",
        "collapsed": false,
        "jupyter": {
          "outputs_hidden": false
        },
        "trusted": true
      },
      "outputs": [],
      "execution_count": null
    },
    {
      "cell_type": "code",
      "source": "train_data = train_data.drop(['Embarked'], axis=1)\ntrain_data.head()",
      "metadata": {
        "_uuid": "f462a6a5-2fa1-451a-815b-ac726e8fb1aa",
        "_cell_guid": "5ef1092b-7d52-4c33-9e87-3dee63086119",
        "collapsed": false,
        "jupyter": {
          "outputs_hidden": false
        },
        "trusted": true
      },
      "outputs": [],
      "execution_count": null
    },
    {
      "cell_type": "markdown",
      "source": "**6. Preparing Data for Regression Model**",
      "metadata": {
        "_uuid": "05caedab-ff6b-4627-9c6d-a985bb4c2611",
        "_cell_guid": "ceacf65e-5776-4b9e-8931-a57fefa4390e",
        "trusted": true
      }
    },
    {
      "cell_type": "code",
      "source": "input_data = train_data.drop(['PassengerId', 'Name', 'Ticket', 'Survived'], axis=1)\ninput_data",
      "metadata": {
        "_uuid": "6585b47f-e4e1-4460-b7bc-ab21d46eb4ef",
        "_cell_guid": "9e3f528e-6c91-4ff7-9018-64a055eb245e",
        "collapsed": false,
        "jupyter": {
          "outputs_hidden": false
        },
        "trusted": true
      },
      "outputs": [],
      "execution_count": null
    },
    {
      "cell_type": "code",
      "source": "input_data.isnull().sum()",
      "metadata": {
        "_uuid": "fc88b64e-d334-41fe-91b4-a157b1533acd",
        "_cell_guid": "369ec18d-2486-468e-af80-d1a5f83b691e",
        "collapsed": false,
        "jupyter": {
          "outputs_hidden": false
        },
        "trusted": true
      },
      "outputs": [],
      "execution_count": null
    },
    {
      "cell_type": "code",
      "source": "output_data = train_data['Survived']\noutput_data",
      "metadata": {
        "_uuid": "c749a954-3b7c-4a16-a38b-39db7feca294",
        "_cell_guid": "0d703fc2-1272-4720-a4bc-bd4ff2e97e0f",
        "collapsed": false,
        "jupyter": {
          "outputs_hidden": false
        },
        "trusted": true
      },
      "outputs": [],
      "execution_count": null
    },
    {
      "cell_type": "markdown",
      "source": "**7. Splitting Dataset for training and testing**",
      "metadata": {
        "_uuid": "bb722e73-f40c-41c3-9108-c34d55e14c84",
        "_cell_guid": "cebf2d1e-5fa5-4335-b642-2cc6eac5e67b",
        "trusted": true
      }
    },
    {
      "cell_type": "code",
      "source": "from sklearn.model_selection import train_test_split\nin_train, in_test, out_train, out_test = train_test_split(input_data, output_data, random_state=10)",
      "metadata": {
        "_uuid": "01c9a96d-3be7-4546-8073-bac992c352c7",
        "_cell_guid": "79e20e72-21b2-464e-8f4c-a2097ab7f022",
        "collapsed": false,
        "jupyter": {
          "outputs_hidden": false
        },
        "trusted": true
      },
      "outputs": [],
      "execution_count": null
    },
    {
      "cell_type": "code",
      "source": "in_train.shape",
      "metadata": {
        "_uuid": "4c836fee-8059-4972-9f63-0d1ef9ff1217",
        "_cell_guid": "ad0e8c53-8a2e-4185-ae19-5879a58febc6",
        "collapsed": false,
        "jupyter": {
          "outputs_hidden": false
        },
        "trusted": true
      },
      "outputs": [],
      "execution_count": null
    },
    {
      "cell_type": "code",
      "source": "in_test.shape",
      "metadata": {
        "_uuid": "56159e4d-1d0c-4dd4-904b-5c4bee038887",
        "_cell_guid": "74506eca-793b-4c17-aea0-331f1507ae00",
        "collapsed": false,
        "jupyter": {
          "outputs_hidden": false
        },
        "trusted": true
      },
      "outputs": [],
      "execution_count": null
    },
    {
      "cell_type": "markdown",
      "source": "**8. Logistic Regression Model Training**",
      "metadata": {
        "_uuid": "d4c976f8-5fa0-4c37-969a-3a6bb3382592",
        "_cell_guid": "bf54d4f3-e692-4b56-af6e-7c66df36f0e5",
        "trusted": true
      }
    },
    {
      "cell_type": "code",
      "source": "from sklearn.linear_model import LogisticRegression\nlog_reg_model = LogisticRegression()\nlog_reg_model.fit(in_train, out_train)",
      "metadata": {
        "_uuid": "ac4f9258-c512-4691-9d54-20b0404e8de2",
        "_cell_guid": "5fc597ab-7911-4ba3-b2ce-8a25cadca764",
        "collapsed": false,
        "jupyter": {
          "outputs_hidden": false
        },
        "trusted": true
      },
      "outputs": [],
      "execution_count": null
    },
    {
      "cell_type": "code",
      "source": "model_out = log_reg_model.predict(in_test)",
      "metadata": {
        "_uuid": "7b94ba7d-d523-4893-814b-8fbcc2accb1a",
        "_cell_guid": "daeda8d6-415e-4d73-a3c4-f2a5c83d6aee",
        "collapsed": false,
        "jupyter": {
          "outputs_hidden": false
        },
        "trusted": true
      },
      "outputs": [],
      "execution_count": null
    },
    {
      "cell_type": "code",
      "source": "model_out",
      "metadata": {
        "_uuid": "bad2a4d8-738d-4c09-a313-8708d24f93a3",
        "_cell_guid": "c013a40f-dd63-4b49-a9dd-a89d740cee29",
        "collapsed": false,
        "jupyter": {
          "outputs_hidden": false
        },
        "trusted": true
      },
      "outputs": [],
      "execution_count": null
    },
    {
      "cell_type": "markdown",
      "source": "**9. Checking Accuracy of the Model**",
      "metadata": {
        "_uuid": "2556dfb9-fa0a-4a68-a848-86d45ffb7ab3",
        "_cell_guid": "e29baac8-28d4-452e-babb-8747e4dd74fb",
        "trusted": true
      }
    },
    {
      "cell_type": "code",
      "source": "from sklearn.metrics import accuracy_score\nmodel_score = accuracy_score(model_out, out_test)\nprint(f\"Model Score = {(model_score*100):0.2f}%\")",
      "metadata": {
        "_uuid": "1255055b-7140-4ad0-9f3d-cb6ea0ff5fc0",
        "_cell_guid": "c7cf99ae-bbbf-4d60-97b2-6ec71fa33ca7",
        "collapsed": false,
        "jupyter": {
          "outputs_hidden": false
        },
        "trusted": true
      },
      "outputs": [],
      "execution_count": null
    },
    {
      "cell_type": "markdown",
      "source": "**10. Deploying Model**",
      "metadata": {}
    },
    {
      "cell_type": "code",
      "source": "import pickle as pkl\npkl.dump(log_reg_model, open('Logistic_Regression_model.pkl', 'wb'))",
      "metadata": {
        "_uuid": "219d359a-57b4-4dc3-b58d-f71341fac7c0",
        "_cell_guid": "8d737f06-2105-447a-b869-430c6f5456b1",
        "collapsed": false,
        "jupyter": {
          "outputs_hidden": false
        },
        "trusted": true
      },
      "outputs": [],
      "execution_count": null
    },
    {
      "cell_type": "code",
      "source": "test = list(in_test.iloc[0])",
      "metadata": {
        "trusted": true
      },
      "outputs": [],
      "execution_count": null
    },
    {
      "cell_type": "code",
      "source": "test",
      "metadata": {
        "trusted": true
      },
      "outputs": [],
      "execution_count": null
    },
    {
      "cell_type": "code",
      "source": "import numpy as np\ntest = np.array(test)",
      "metadata": {
        "trusted": true
      },
      "outputs": [],
      "execution_count": null
    },
    {
      "cell_type": "code",
      "source": "test",
      "metadata": {
        "trusted": true
      },
      "outputs": [],
      "execution_count": null
    },
    {
      "cell_type": "code",
      "source": "log_reg_model.predict(test.reshape(-1, 8))",
      "metadata": {
        "trusted": true
      },
      "outputs": [],
      "execution_count": null
    }
  ]
}